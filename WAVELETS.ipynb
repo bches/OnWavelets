{
  "nbformat": 4,
  "nbformat_minor": 0,
  "metadata": {
    "colab": {
      "name": "WAVELETS.ipynb",
      "version": "0.3.2",
      "provenance": [],
      "include_colab_link": true
    },
    "kernelspec": {
      "name": "python3",
      "display_name": "Python 3"
    }
  },
  "cells": [
    {
      "cell_type": "markdown",
      "metadata": {
        "id": "view-in-github",
        "colab_type": "text"
      },
      "source": [
        "<a href=\"https://colab.research.google.com/github/bches/OnWavelets/blob/master/WAVELETS.ipynb\" target=\"_parent\"><img src=\"https://colab.research.google.com/assets/colab-badge.svg\" alt=\"Open In Colab\"/></a>"
      ]
    },
    {
      "metadata": {
        "id": "xQlWc3ixYRjS",
        "colab_type": "code",
        "colab": {}
      },
      "cell_type": "code",
      "source": [
        "import numpy as np\n",
        "from numpy.linalg import inv, norm\n",
        "import matplotlib.pyplot as plt"
      ],
      "execution_count": 0,
      "outputs": []
    },
    {
      "metadata": {
        "id": "_DlQOMsxaC7b",
        "colab_type": "text"
      },
      "cell_type": "markdown",
      "source": [
        "Wavelets - in one dimension\n",
        "\n",
        "v = W * c\n",
        "\n",
        "v: input signal\n",
        "\n",
        "W: Wavelet basis\n",
        "(the inverse of W transofrms an input signal into the Wavelet basis)\n",
        "\n",
        "c : Wavelet coefficients\n"
      ]
    },
    {
      "metadata": {
        "id": "IPROl3JTYm3S",
        "colab_type": "code",
        "colab": {
          "base_uri": "https://localhost:8080/",
          "height": 89
        },
        "outputId": "e6bb2481-8698-4fd8-dd1f-67082e1e4cb6"
      },
      "cell_type": "code",
      "source": [
        "W = np.array([[1,1,1,0],\n",
        "              [1,1,-1,0],\n",
        "              [1,-1,0,1],\n",
        "              [1,-1,0,-1]])\n",
        "\n",
        "print('W^-1 = ', inv(W))"
      ],
      "execution_count": 10,
      "outputs": [
        {
          "output_type": "stream",
          "text": [
            "W^-1 =  [[ 0.25  0.25  0.25  0.25]\n",
            " [ 0.25  0.25 -0.25 -0.25]\n",
            " [ 0.5  -0.5  -0.   -0.  ]\n",
            " [-0.   -0.    0.5  -0.5 ]]\n"
          ],
          "name": "stdout"
        }
      ]
    },
    {
      "metadata": {
        "id": "7DzMyKNpbLda",
        "colab_type": "text"
      },
      "cell_type": "markdown",
      "source": [
        "Input Signal, v"
      ]
    },
    {
      "metadata": {
        "id": "dIgkA-sCbJpm",
        "colab_type": "code",
        "colab": {}
      },
      "cell_type": "code",
      "source": [
        "v = np.array([6,4,5,1])"
      ],
      "execution_count": 0,
      "outputs": []
    },
    {
      "metadata": {
        "id": "YrYD1GkqbT_2",
        "colab_type": "text"
      },
      "cell_type": "markdown",
      "source": [
        "Wavelet coefficents, c, that represent the given input signal, v, in the Wavelet basis"
      ]
    },
    {
      "metadata": {
        "id": "EjsBPX4fbVXc",
        "colab_type": "code",
        "colab": {
          "base_uri": "https://localhost:8080/",
          "height": 53
        },
        "outputId": "347f4196-283b-46ec-a516-2bb00518f30d"
      },
      "cell_type": "code",
      "source": [
        "c = inv(W).dot(v)\n",
        "print('v=',v)\n",
        "print('c=',c)"
      ],
      "execution_count": 23,
      "outputs": [
        {
          "output_type": "stream",
          "text": [
            "v= [6 4 5 1]\n",
            "c= [4. 1. 1. 2.]\n"
          ],
          "name": "stdout"
        }
      ]
    },
    {
      "metadata": {
        "id": "oxZOV_RSb4OM",
        "colab_type": "text"
      },
      "cell_type": "markdown",
      "source": [
        "Reconstructing the input signal from the Wavelet coefs\n",
        "\n",
        "vhat: the reconstructed signal\n",
        "\n",
        "v: the original signal\n",
        "\n",
        "Measure the error in the reconstruction with the second norm of the difference between v and vhat\n"
      ]
    },
    {
      "metadata": {
        "id": "CDDGlcuHb7gp",
        "colab_type": "code",
        "colab": {
          "base_uri": "https://localhost:8080/",
          "height": 89
        },
        "outputId": "762c5f5f-0c17-48ee-b498-cd5d608d5d9e"
      },
      "cell_type": "code",
      "source": [
        "vhat = W.dot(c)\n",
        "print('vhat=', vhat)\n",
        "print('v=',v)\n",
        "print()\n",
        "print('|v-vhat|2 = ', norm(v-vhat,2))"
      ],
      "execution_count": 14,
      "outputs": [
        {
          "output_type": "stream",
          "text": [
            "vhat= [6. 4. 5. 1.]\n",
            "v= [6 4 5 1]\n",
            "\n",
            "|v-vhat|2 =  0.0\n"
          ],
          "name": "stdout"
        }
      ]
    },
    {
      "metadata": {
        "id": "C31mkb-qeOY-",
        "colab_type": "text"
      },
      "cell_type": "markdown",
      "source": [
        "By Recursion - calculate the wavelet coefficients by recursion, instead of a matrix multiply\n",
        "\n",
        "i: recursion level\n",
        "\n",
        "a: averages\n",
        "\n",
        "d: differences\n",
        "\n",
        "cr: coefs calculated by recursion (should be the same as c)\n",
        "\n",
        "Start with a two sample window and double it at each step of the recursion until it spans the whole input vector (the length of the input vector is an even power of 2).  The input to the first step is the input signal, but at successive steps, the input is the windowed average from the previous step. At each step, calculate the average over the window and store it; also store the residual information (difference) from the input to that step.  At each step the differences generate the coefs inreverse order, except for the last step which stores the last average in the first coef."
      ]
    },
    {
      "metadata": {
        "id": "7Vd2We2eef6y",
        "colab_type": "code",
        "colab": {
          "base_uri": "https://localhost:8080/",
          "height": 144
        },
        "outputId": "bbb4cdd6-745a-42db-c66a-e12c09306801"
      },
      "cell_type": "code",
      "source": [
        "N = len(v)\n",
        "cr = np.zeros_like(v)\n",
        "\n",
        "i = 1\n",
        "aprev = v\n",
        "a = np.zeros_like(v)\n",
        "for j in range(0,N,2**i):\n",
        "  a[j:j+2**i] = np.average(v[j:j+2**i])  \n",
        "d = aprev - a\n",
        "cr[2] = norm(d[:2**i], 1) / (N/2)\n",
        "cr[3] = norm(d[2**i:], 1) / (N/2)\n",
        "print('recursion level {}: a = {}, d = {} => cr[2]={}, cr[3]={}'.format(i,a,d,cr[2],cr[3]))\n",
        "print()\n",
        "\n",
        "i = 2\n",
        "aprev = a\n",
        "a = np.zeros_like(v)\n",
        "for j in range(0,N,2**i):\n",
        "  a[j:j+2**i] = np.average(v[j:j+2**i])  \n",
        "d = aprev - a\n",
        "cr[0] = norm(a, 1) / N\n",
        "cr[1] = norm(d, 1) / N\n",
        "print('recursion level {}: a = {}, d = {} => cr[0]={}, cr[1]={}'.format(i,a,d,cr[0],cr[1]))\n",
        "print()\n",
        "\n",
        "print('c=',c)\n",
        "print('cr=',cr)\n",
        "print('|c-cr|2 =', norm(c-cr,2))"
      ],
      "execution_count": 26,
      "outputs": [
        {
          "output_type": "stream",
          "text": [
            "recursion level 1: a = [5 5 3 3], d = [ 1 -1  2 -2] => cr[2]=1, cr[3]=2\n",
            "\n",
            "recursion level 2: a = [4 4 4 4], d = [ 1  1 -1 -1] => cr[0]=4, cr[1]=1\n",
            "\n",
            "c= [4. 1. 1. 2.]\n",
            "cr= [4 1 1 2]\n",
            "|c-cr|2 = 0.0\n"
          ],
          "name": "stdout"
        }
      ]
    },
    {
      "metadata": {
        "id": "TO7Sgzs6fDMO",
        "colab_type": "text"
      },
      "cell_type": "markdown",
      "source": [
        "Compression\n",
        "\n",
        "The input signal needs 3 bits to encode each of the four values, for a total of 12 bits.\n",
        "\n",
        "The compressed signal could use 2 bits for each of the four values, for a total of 8 bits.\n",
        "\n",
        "The first norm of the input signal, v, and the compressed signal, c, show that the compressed signal uses smaller numbers than the original signal.  The following plot shows it too.\n",
        "\n",
        "If the coefs continue to get smaller and go to 0 then the Wavelet transform results in working with sparse coefficients, instead of a dense input signal."
      ]
    },
    {
      "metadata": {
        "id": "Mcz00vSofE_e",
        "colab_type": "code",
        "colab": {
          "base_uri": "https://localhost:8080/",
          "height": 412
        },
        "outputId": "b01b1b0b-0d09-429f-860a-3c97691e09b5"
      },
      "cell_type": "code",
      "source": [
        "plt.plot(v,'b')\n",
        "plt.plot(c,'r')\n",
        "plt.legend(['Input signal, v', 'Wavelet coefs, c'])\n",
        "plt.xlabel('Index')\n",
        "plt.ylabel('Value')\n",
        "plt.title('Wavelet compression')\n",
        "\n",
        "print('|v|1 =', norm(v,1))\n",
        "print('|c|1 =', norm(c,1))"
      ],
      "execution_count": 29,
      "outputs": [
        {
          "output_type": "stream",
          "text": [
            "|v|1 = 16.0\n",
            "|c|1 = 8.0\n"
          ],
          "name": "stdout"
        },
        {
          "output_type": "display_data",
          "data": {
            "image/png": "[encoded data removed]",
            "text/plain": [
              "<Figure size 576x396 with 1 Axes>"
            ]
          },
          "metadata": {
            "tags": []
          }
        }
      ]
    }
  ]
}