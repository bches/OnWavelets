{
  "nbformat": 4,
  "nbformat_minor": 0,
  "metadata": {
    "colab": {
      "name": "WAVELETS2D.ipynb",
      "version": "0.3.2",
      "provenance": [],
      "collapsed_sections": [],
      "include_colab_link": true
    },
    "kernelspec": {
      "name": "python3",
      "display_name": "Python 3"
    }
  },
  "cells": [
    {
      "cell_type": "markdown",
      "metadata": {
        "id": "view-in-github",
        "colab_type": "text"
      },
      "source": [
        "<a href=\"https://colab.research.google.com/github/bches/OnWavelets/blob/master/WAVELETS2D.ipynb\" target=\"_parent\"><img src=\"https://colab.research.google.com/assets/colab-badge.svg\" alt=\"Open In Colab\"/></a>"
      ]
    },
    {
      "metadata": {
        "id": "t-9Bl_lgtnl_",
        "colab_type": "code",
        "colab": {}
      },
      "cell_type": "code",
      "source": [
        "import numpy as np\n",
        "from numpy.linalg import inv, norm\n",
        "import matplotlib.pyplot as plt"
      ],
      "execution_count": 0,
      "outputs": []
    },
    {
      "metadata": {
        "id": "4Y-pRA3mt5U2",
        "colab_type": "text"
      },
      "cell_type": "markdown",
      "source": [
        "Wavelets - in two dimensions\n",
        "\n",
        "$V = W \\cdot C \\cdot W^{-1} = W \\cdot C \\cdot W^T$\n",
        "\n",
        "V: input image (4x4)\n",
        "\n",
        "W: Wavelet basis (4x4, the inverse of W transofrms an input signal into the Wavelet basis). This basis is orthonormal, so $W^{-1} = W^T$ \n",
        "\n",
        "C : Wavelet coefficients (4x4)"
      ]
    },
    {
      "metadata": {
        "id": "Q8_YQ5l9umKh",
        "colab_type": "code",
        "outputId": "a4cd39f2-9642-4d7f-a5a3-b54b9137572a",
        "colab": {
          "base_uri": "https://localhost:8080/",
          "height": 198
        }
      },
      "cell_type": "code",
      "source": [
        "W = np.array([[1,1,1,0],\n",
        "              [1,1,-1,0],\n",
        "              [1,-1,0,1],\n",
        "              [1,-1,0,-1]])\n",
        "\n",
        "print('W^-1 = ', inv(W))\n",
        "print()\n",
        "print('W*W^-1 =', W.dot(inv(W)))\n",
        "M,N = W.shape\n",
        "print('W orthonormal: ', (W.dot(inv(W))==np.eye(N)).all())"
      ],
      "execution_count": 2,
      "outputs": [
        {
          "output_type": "stream",
          "text": [
            "W^-1 =  [[ 0.25  0.25  0.25  0.25]\n",
            " [ 0.25  0.25 -0.25 -0.25]\n",
            " [ 0.5  -0.5  -0.   -0.  ]\n",
            " [-0.   -0.    0.5  -0.5 ]]\n",
            "\n",
            "W*W^-1 = [[1. 0. 0. 0.]\n",
            " [0. 1. 0. 0.]\n",
            " [0. 0. 1. 0.]\n",
            " [0. 0. 0. 1.]]\n",
            "W orthonormal:  True\n"
          ],
          "name": "stdout"
        }
      ]
    },
    {
      "metadata": {
        "id": "kuVp5FP-zAns",
        "colab_type": "text"
      },
      "cell_type": "markdown",
      "source": [
        "Input image, V"
      ]
    },
    {
      "metadata": {
        "id": "_uzB6r4GzBDJ",
        "colab_type": "code",
        "outputId": "0d713c43-ccb0-429a-bb83-f809103f6403",
        "colab": {
          "base_uri": "https://localhost:8080/",
          "height": 126
        }
      },
      "cell_type": "code",
      "source": [
        "np.random.seed([77])\n",
        "V = np.random.randint(1,8,(4,4))\n",
        "print('V is a 4x4 matrix of random numbers between 1 and 8')\n",
        "print('V =',V)\n",
        "print()"
      ],
      "execution_count": 3,
      "outputs": [
        {
          "output_type": "stream",
          "text": [
            "V is a 4x4 matrix of random numbers between 1 and 8\n",
            "V = [[6 3 7 5]\n",
            " [3 3 5 5]\n",
            " [4 1 6 7]\n",
            " [4 5 1 1]]\n",
            "\n"
          ],
          "name": "stdout"
        }
      ]
    },
    {
      "metadata": {
        "id": "jgaInhLqzLWn",
        "colab_type": "text"
      },
      "cell_type": "markdown",
      "source": [
        "Wavelet coefficents, c, that represent the given input image, V, in the Wavelet basis\n",
        "\n",
        "$C = W^{-1} \\cdot V \\cdot W$"
      ]
    },
    {
      "metadata": {
        "id": "5kCYmqA7zO3j",
        "colab_type": "code",
        "outputId": "b025319a-7077-4b63-933e-2b5162cc3867",
        "colab": {
          "base_uri": "https://localhost:8080/",
          "height": 162
        }
      },
      "cell_type": "code",
      "source": [
        "C = (inv(W).dot(V)).dot(W)\n",
        "print('V =',V)\n",
        "print('C =',C)"
      ],
      "execution_count": 4,
      "outputs": [
        {
          "output_type": "stream",
          "text": [
            "V = [[6 3 7 5]\n",
            " [3 3 5 5]\n",
            " [4 1 6 7]\n",
            " [4 5 1 1]]\n",
            "C = [[16.5  -2.    1.25  0.25]\n",
            " [ 2.   -1.5   0.25  0.75]\n",
            " [ 2.5   0.5   1.5   1.  ]\n",
            " [ 3.5  -7.5   2.   -0.5 ]]\n"
          ],
          "name": "stdout"
        }
      ]
    },
    {
      "metadata": {
        "id": "uyLqOCJizZPC",
        "colab_type": "text"
      },
      "cell_type": "markdown",
      "source": [
        "Reconstructing the input image from the Wavelet coefs\n",
        "\n",
        "$\\hat{V}$: the reconstructed signal\n",
        "\n",
        "$V$: the original signal\n",
        "\n",
        "$\\hat{V} = W \\cdot C \\cdot W^{-1}$\n",
        "\n",
        "Measure the error in the reconstruction with the second norm of the difference between $\\hat{V}$ and $V$ "
      ]
    },
    {
      "metadata": {
        "id": "JVtiNB2-zadR",
        "colab_type": "code",
        "outputId": "4be0229d-d115-4149-9115-290b31f2de6e",
        "colab": {
          "base_uri": "https://localhost:8080/",
          "height": 198
        }
      },
      "cell_type": "code",
      "source": [
        "Vhat = (W.dot(C)).dot(inv(W))\n",
        "print('Vhat=', Vhat)\n",
        "print('V=',V)\n",
        "print()\n",
        "print('|V-Vhat|2 = ', norm(V-Vhat,2))"
      ],
      "execution_count": 5,
      "outputs": [
        {
          "output_type": "stream",
          "text": [
            "Vhat= [[6. 3. 7. 5.]\n",
            " [3. 3. 5. 5.]\n",
            " [4. 1. 6. 7.]\n",
            " [4. 5. 1. 1.]]\n",
            "V= [[6 3 7 5]\n",
            " [3 3 5 5]\n",
            " [4 1 6 7]\n",
            " [4 5 1 1]]\n",
            "\n",
            "|V-Vhat|2 =  0.0\n"
          ],
          "name": "stdout"
        }
      ]
    },
    {
      "metadata": {
        "id": "fHtX0a-s16Ur",
        "colab_type": "text"
      },
      "cell_type": "markdown",
      "source": [
        "Feature extraction on an image of an X (greyscale)"
      ]
    },
    {
      "metadata": {
        "id": "RfIWWFby164e",
        "colab_type": "code",
        "outputId": "ebe45c78-3682-4663-ba67-e0795f4e1950",
        "colab": {
          "base_uri": "https://localhost:8080/",
          "height": 1045
        }
      },
      "cell_type": "code",
      "source": [
        "V = np.array([[1,0,0,1],\n",
        "              [0,1,1,0],\n",
        "              [0,1,1,0],\n",
        "              [1,0,0,1]])\n",
        "\n",
        "C = (inv(W).dot(V)).dot(W)\n",
        "Vhat = (W.dot(C)).dot(inv(W))\n",
        "\n",
        "print('V =',V)\n",
        "print('C =',C)\n",
        "\n",
        "plt.figure(1)\n",
        "plt.imshow(V, cmap='Greys')\n",
        "plt.title('V')\n",
        "\n",
        "plt.figure(2)\n",
        "plt.imshow(C, cmap='Greys')\n",
        "plt.title('C')\n",
        "\n",
        "plt.figure(3)\n",
        "plt.imshow(Vhat, cmap='Greys')\n",
        "plt.title('Vhat')\n",
        "\n",
        "print()\n",
        "print('0th norms of input signal and wavelet coefs')\n",
        "print('|V|0 = ', np.count_nonzero(V))\n",
        "print('|C|0 = ', np.count_nonzero(C))\n",
        "print()"
      ],
      "execution_count": 6,
      "outputs": [
        {
          "output_type": "stream",
          "text": [
            "V = [[1 0 0 1]\n",
            " [0 1 1 0]\n",
            " [0 1 1 0]\n",
            " [1 0 0 1]]\n",
            "C = [[ 2.  0.  0.  0.]\n",
            " [ 0.  0.  0.  0.]\n",
            " [ 0.  0.  1. -1.]\n",
            " [ 0.  0. -1.  1.]]\n",
            "\n",
            "0th norms of input signal and wavelet coefs\n",
            "|V|0 =  8\n",
            "|C|0 =  5\n",
            "\n"
          ],
          "name": "stdout"
        },
        {
          "output_type": "display_data",
          "data": {
            "image/png": "[encoded data removed]",
            "text/plain": [
              "<Figure size 432x288 with 1 Axes>"
            ]
          },
          "metadata": {
            "tags": []
          }
        },
        {
          "output_type": "display_data",
          "data": {
            "image/png": "[encoded data removed]",
            "text/plain": [
              "<Figure size 432x288 with 1 Axes>"
            ]
          },
          "metadata": {
            "tags": []
          }
        },
        {
          "output_type": "display_data",
          "data": {
            "image/png": "[encoded data removed]",
            "text/plain": [
              "<Figure size 432x288 with 1 Axes>"
            ]
          },
          "metadata": {
            "tags": []
          }
        }
      ]
    },
    {
      "metadata": {
        "id": "tXlOL64Gzo8-",
        "colab_type": "text"
      },
      "cell_type": "markdown",
      "source": [
        "\n",
        "A bigger N"
      ]
    },
    {
      "metadata": {
        "id": "koc3SHrmztne",
        "colab_type": "code",
        "outputId": "4b256945-209d-497a-fc36-89dae816e3b5",
        "colab": {
          "base_uri": "https://localhost:8080/",
          "height": 1045
        }
      },
      "cell_type": "code",
      "source": [
        "N = 8\n",
        "V = np.eye(N)\n",
        "for i in range(N):\n",
        "  V[i,N-i-1] = 1\n",
        "  \n",
        "  \n",
        "W = np.array([[1, 1, 1, 0, 1, 0, 0, 0],\n",
        "              [1, 1, 1, 0,-1, 0, 0, 0],\n",
        "              [1, 1,-1, 0, 0, 1, 0, 0],\n",
        "              [1, 1,-1, 0, 0,-1, 0, 0],\n",
        "              [1,-1, 0, 1, 0, 0, 1, 0],\n",
        "              [1,-1, 0, 1, 0, 0,-1, 0],\n",
        "              [1,-1, 0,-1, 0, 0, 0, 1],\n",
        "              [1,-1, 0,-1, 0, 0, 0,-1]\n",
        "             ])\n",
        "\n",
        "M,N = W.shape\n",
        "print('W orthonormal: ', (W.dot(inv(W))==np.eye(N)).all())\n",
        "    \n",
        "C = (inv(W).dot(V)).dot(W)\n",
        "Vhat = (W.dot(C)).dot(inv(W))\n",
        "\n",
        "print('C=', C)\n",
        "\n",
        "plt.figure(1)\n",
        "plt.imshow(V, cmap='Greys')\n",
        "plt.title('V')\n",
        "\n",
        "plt.figure(2)\n",
        "plt.imshow(C, cmap='Greys')\n",
        "plt.title('C')\n",
        "\n",
        "plt.figure(3)\n",
        "plt.imshow(Vhat, cmap='Greys')\n",
        "plt.title('Vhat')\n",
        "\n",
        "print()\n",
        "print('0th norms of input signal and wavelet coefs')\n",
        "print('|V|0 = ', np.count_nonzero(V))\n",
        "print('|C|0 = ', np.count_nonzero(C))"
      ],
      "execution_count": 7,
      "outputs": [
        {
          "output_type": "stream",
          "text": [
            "W orthonormal:  True\n",
            "C= [[ 2.  0.  0.  0.  0.  0.  0.  0.]\n",
            " [ 0.  0.  0.  0.  0.  0.  0.  0.]\n",
            " [ 0.  0.  1. -1.  0.  0.  0.  0.]\n",
            " [ 0.  0. -1.  1.  0.  0.  0.  0.]\n",
            " [ 0.  0.  0.  0.  1.  0.  0. -1.]\n",
            " [ 0.  0.  0.  0.  0.  1. -1.  0.]\n",
            " [ 0.  0.  0.  0.  0. -1.  1.  0.]\n",
            " [ 0.  0.  0.  0. -1.  0.  0.  1.]]\n",
            "\n",
            "0th norms of input signal and wavelet coefs\n",
            "|V|0 =  16\n",
            "|C|0 =  13\n"
          ],
          "name": "stdout"
        },
        {
          "output_type": "display_data",
          "data": {
            "image/png": "[encoded data removed]",
            "text/plain": [
              "<Figure size 432x288 with 1 Axes>"
            ]
          },
          "metadata": {
            "tags": []
          }
        },
        {
          "output_type": "display_data",
          "data": {
            "image/png": "[encoded data removed]",
            "text/plain": [
              "<Figure size 432x288 with 1 Axes>"
            ]
          },
          "metadata": {
            "tags": []
          }
        },
        {
          "output_type": "display_data",
          "data": {
            "image/png": "[encoded data removed]",
            "text/plain": [
              "<Figure size 432x288 with 1 Axes>"
            ]
          },
          "metadata": {
            "tags": []
          }
        }
      ]
    },
    {
      "metadata": {
        "id": "F3nxjcC_R9AI",
        "colab_type": "text"
      },
      "cell_type": "markdown",
      "source": [
        "Wavelet basis generating function:\n",
        "\n",
        "W = wavelet_basis(N)\n",
        "\n",
        "input N: generate the NxN wavelet basis matrix\n",
        "\n",
        "output W: the NxN wavelet basis matrix\n",
        "\n",
        "note: N should be an integer power of 2"
      ]
    },
    {
      "metadata": {
        "id": "EF10t5mLR9aE",
        "colab_type": "code",
        "colab": {}
      },
      "cell_type": "code",
      "source": [
        "from math import log10\n",
        "\n",
        "def log2(x):\n",
        "  return log10(N) / log10(2)\n",
        "\n",
        "def wavelet_basis(N):\n",
        "  Nlog2 = log2(N)\n",
        "  assert int(Nlog2)==Nlog2, \"N should be an integer power of 2\"\n",
        "  assert N>0, \"N should be bigger than 0\"\n",
        "  Nlog2 = int(Nlog2)\n",
        "  W = np.zeros((N,N), dtype=float)\n",
        "  W[:,0] = 1.0\n",
        "  for i in range(Nlog2):\n",
        "    for j in range(2**i):\n",
        "      col = j+2**i\n",
        "      rows = int(N / (2**(i+1)))\n",
        "      W[2*j*rows:(2*j+1)*rows,col] = 1.0\n",
        "      W[(2*j+1)*rows:(2*j+2)*rows,col] = -1.0\n",
        "  assert (W.dot(inv(W))==np.eye(N)).all(), \"Generated W not orthonormal\"\n",
        "  return W\n"
      ],
      "execution_count": 0,
      "outputs": []
    },
    {
      "metadata": {
        "id": "m87l0DyDX5P9",
        "colab_type": "code",
        "outputId": "2ca7d3db-f4c0-47dc-fd92-b642fd371aeb",
        "colab": {
          "base_uri": "https://localhost:8080/",
          "height": 1027
        }
      },
      "cell_type": "code",
      "source": [
        "N = 64\n",
        "V = np.eye(N)\n",
        "for i in range(N):\n",
        "  V[i,N-i-1] = 1\n",
        "  \n",
        "W = wavelet_basis(N)\n",
        "\n",
        "M,N = W.shape\n",
        "print('W orthonormal: ', (W.dot(inv(W))==np.eye(N)).all())\n",
        "    \n",
        "C = (inv(W).dot(V)).dot(W)\n",
        "Vhat = (W.dot(C)).dot(inv(W))\n",
        "\n",
        "print('C=', C)\n",
        "\n",
        "plt.figure(1)\n",
        "plt.imshow(V, cmap='Greys')\n",
        "plt.title('V')\n",
        "\n",
        "plt.figure(2)\n",
        "plt.imshow(C, cmap='Greys')\n",
        "plt.title('C')\n",
        "\n",
        "plt.figure(3)\n",
        "plt.imshow(Vhat, cmap='Greys')\n",
        "plt.title('Vhat')\n",
        "\n",
        "print()\n",
        "print('0th norms of input signal and wavelet coefs')\n",
        "print('|V|0 = ', np.count_nonzero(V))\n",
        "print('|C|0 = ', np.count_nonzero(C))"
      ],
      "execution_count": 9,
      "outputs": [
        {
          "output_type": "stream",
          "text": [
            "W orthonormal:  True\n",
            "C= [[2. 0. 0. ... 0. 0. 0.]\n",
            " [0. 0. 0. ... 0. 0. 0.]\n",
            " [0. 0. 1. ... 0. 0. 0.]\n",
            " ...\n",
            " [0. 0. 0. ... 1. 0. 0.]\n",
            " [0. 0. 0. ... 0. 1. 0.]\n",
            " [0. 0. 0. ... 0. 0. 1.]]\n",
            "\n",
            "0th norms of input signal and wavelet coefs\n",
            "|V|0 =  128\n",
            "|C|0 =  125\n"
          ],
          "name": "stdout"
        },
        {
          "output_type": "display_data",
          "data": {
            "image/png": "[encoded data removed]",
            "text/plain": [
              "<Figure size 432x288 with 1 Axes>"
            ]
          },
          "metadata": {
            "tags": []
          }
        },
        {
          "output_type": "display_data",
          "data": {
            "image/png": "[encoded data removed]",
            "text/plain": [
              "<Figure size 432x288 with 1 Axes>"
            ]
          },
          "metadata": {
            "tags": []
          }
        },
        {
          "output_type": "display_data",
          "data": {
            "image/png": "[encoded data removed]",
            "text/plain": [
              "<Figure size 432x288 with 1 Axes>"
            ]
          },
          "metadata": {
            "tags": []
          }
        }
      ]
    }
  ]
}