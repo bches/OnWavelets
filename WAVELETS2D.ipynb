{
  "nbformat": 4,
  "nbformat_minor": 0,
  "metadata": {
    "colab": {
      "name": "WAVELETS2D.ipynb",
      "version": "0.3.2",
      "provenance": [],
      "collapsed_sections": [],
      "include_colab_link": true
    },
    "kernelspec": {
      "name": "python3",
      "display_name": "Python 3"
    }
  },
  "cells": [
    {
      "cell_type": "markdown",
      "metadata": {
        "id": "view-in-github",
        "colab_type": "text"
      },
      "source": [
        "<a href=\"https://colab.research.google.com/github/bches/OnWavelets/blob/master/WAVELETS2D.ipynb\" target=\"_parent\"><img src=\"https://colab.research.google.com/assets/colab-badge.svg\" alt=\"Open In Colab\"/></a>"
      ]
    },
    {
      "metadata": {
        "id": "t-9Bl_lgtnl_",
        "colab_type": "code",
        "colab": {}
      },
      "cell_type": "code",
      "source": [
        "import numpy as np\n",
        "from numpy.linalg import inv, norm\n",
        "import matplotlib.pyplot as plt"
      ],
      "execution_count": 0,
      "outputs": []
    },
    {
      "metadata": {
        "id": "4Y-pRA3mt5U2",
        "colab_type": "text"
      },
      "cell_type": "markdown",
      "source": [
        "Wavelets - in two dimensions\n",
        "\n",
        "$V = W \\cdot C \\cdot W^{-1} = W \\cdot C \\cdot W^T$\n",
        "\n",
        "V: input image (4x4)\n",
        "\n",
        "W: Wavelet basis (4x4, the inverse of W transofrms an input signal into the Wavelet basis). This basis is orthonormal, so $W^{-1} = W^T$ \n",
        "\n",
        "C : Wavelet coefficients (4x4)"
      ]
    },
    {
      "metadata": {
        "id": "Q8_YQ5l9umKh",
        "colab_type": "code",
        "outputId": "bfb42f28-3f1d-4861-a642-7ca97e924711",
        "colab": {
          "base_uri": "https://localhost:8080/",
          "height": 198
        }
      },
      "cell_type": "code",
      "source": [
        "W = np.array([[1,1,1,0],\n",
        "              [1,1,-1,0],\n",
        "              [1,-1,0,1],\n",
        "              [1,-1,0,-1]])\n",
        "\n",
        "print('W^-1 = ', inv(W))\n",
        "print()\n",
        "print('W*W^-1 =', W.dot(inv(W)))\n",
        "M,N = W.shape\n",
        "print('W orthonormal: ', (W.dot(inv(W))==np.eye(N)).all())"
      ],
      "execution_count": 2,
      "outputs": [
        {
          "output_type": "stream",
          "text": [
            "W^-1 =  [[ 0.25  0.25  0.25  0.25]\n",
            " [ 0.25  0.25 -0.25 -0.25]\n",
            " [ 0.5  -0.5  -0.   -0.  ]\n",
            " [-0.   -0.    0.5  -0.5 ]]\n",
            "\n",
            "W*W^-1 = [[1. 0. 0. 0.]\n",
            " [0. 1. 0. 0.]\n",
            " [0. 0. 1. 0.]\n",
            " [0. 0. 0. 1.]]\n",
            "W orthonormal:  True\n"
          ],
          "name": "stdout"
        }
      ]
    },
    {
      "metadata": {
        "id": "kuVp5FP-zAns",
        "colab_type": "text"
      },
      "cell_type": "markdown",
      "source": [
        "Input image, V"
      ]
    },
    {
      "metadata": {
        "id": "_uzB6r4GzBDJ",
        "colab_type": "code",
        "outputId": "fd6f45a4-69a0-4450-d5d2-5c82c4a53297",
        "colab": {
          "base_uri": "https://localhost:8080/",
          "height": 126
        }
      },
      "cell_type": "code",
      "source": [
        "np.random.seed([77])\n",
        "V = np.random.randint(1,8,(4,4))\n",
        "print('V is a 4x4 matrix of random numbers between 1 and 8')\n",
        "print('V =',V)\n",
        "print()"
      ],
      "execution_count": 3,
      "outputs": [
        {
          "output_type": "stream",
          "text": [
            "V is a 4x4 matrix of random numbers between 1 and 8\n",
            "V = [[6 3 7 5]\n",
            " [3 3 5 5]\n",
            " [4 1 6 7]\n",
            " [4 5 1 1]]\n",
            "\n"
          ],
          "name": "stdout"
        }
      ]
    },
    {
      "metadata": {
        "id": "jgaInhLqzLWn",
        "colab_type": "text"
      },
      "cell_type": "markdown",
      "source": [
        "Wavelet coefficents, c, that represent the given input image, V, in the Wavelet basis\n",
        "\n",
        "$C = W^{-1} \\cdot V \\cdot W$"
      ]
    },
    {
      "metadata": {
        "id": "5kCYmqA7zO3j",
        "colab_type": "code",
        "outputId": "fa475936-9151-492c-b962-4d7c2f3d651f",
        "colab": {
          "base_uri": "https://localhost:8080/",
          "height": 162
        }
      },
      "cell_type": "code",
      "source": [
        "C = (inv(W).dot(V)).dot(W)\n",
        "print('V =',V)\n",
        "print('C =',C)"
      ],
      "execution_count": 4,
      "outputs": [
        {
          "output_type": "stream",
          "text": [
            "V = [[6 3 7 5]\n",
            " [3 3 5 5]\n",
            " [4 1 6 7]\n",
            " [4 5 1 1]]\n",
            "C = [[16.5  -2.    1.25  0.25]\n",
            " [ 2.   -1.5   0.25  0.75]\n",
            " [ 2.5   0.5   1.5   1.  ]\n",
            " [ 3.5  -7.5   2.   -0.5 ]]\n"
          ],
          "name": "stdout"
        }
      ]
    },
    {
      "metadata": {
        "id": "uyLqOCJizZPC",
        "colab_type": "text"
      },
      "cell_type": "markdown",
      "source": [
        "Reconstructing the input image from the Wavelet coefs\n",
        "\n",
        "$\\hat{V}$: the reconstructed signal\n",
        "\n",
        "$V$: the original signal\n",
        "\n",
        "$\\hat{V} = W \\cdot C \\cdot W^{-1}$\n",
        "\n",
        "Measure the error in the reconstruction with the second norm of the difference between $\\hat{V}$ and $V$ "
      ]
    },
    {
      "metadata": {
        "id": "JVtiNB2-zadR",
        "colab_type": "code",
        "outputId": "95c80ddd-549b-44bc-e232-f1a880843f2b",
        "colab": {
          "base_uri": "https://localhost:8080/",
          "height": 198
        }
      },
      "cell_type": "code",
      "source": [
        "Vhat = (W.dot(C)).dot(inv(W))\n",
        "print('Vhat=', Vhat)\n",
        "print('V=',V)\n",
        "print()\n",
        "print('|V-Vhat|2 = ', norm(V-Vhat,2))"
      ],
      "execution_count": 5,
      "outputs": [
        {
          "output_type": "stream",
          "text": [
            "Vhat= [[6. 3. 7. 5.]\n",
            " [3. 3. 5. 5.]\n",
            " [4. 1. 6. 7.]\n",
            " [4. 5. 1. 1.]]\n",
            "V= [[6 3 7 5]\n",
            " [3 3 5 5]\n",
            " [4 1 6 7]\n",
            " [4 5 1 1]]\n",
            "\n",
            "|V-Vhat|2 =  0.0\n"
          ],
          "name": "stdout"
        }
      ]
    },
    {
      "metadata": {
        "id": "fHtX0a-s16Ur",
        "colab_type": "text"
      },
      "cell_type": "markdown",
      "source": [
        "Feature extraction on an image of an X (greyscale)"
      ]
    },
    {
      "metadata": {
        "id": "RfIWWFby164e",
        "colab_type": "code",
        "outputId": "b29c6191-a6df-4635-fe77-2836ff57b991",
        "colab": {
          "base_uri": "https://localhost:8080/",
          "height": 1288
        }
      },
      "cell_type": "code",
      "source": [
        "V = np.array([[1,0,0,1],\n",
        "              [0,1,1,0],\n",
        "              [0,1,1,0],\n",
        "              [1,0,0,1]])\n",
        "\n",
        "C = (inv(W).dot(V)).dot(W)\n",
        "Vhat = (W.dot(C)).dot(inv(W))\n",
        "\n",
        "print('V =',V)\n",
        "print('C =',C)\n",
        "\n",
        "plt.figure(1)\n",
        "plt.imshow(V)\n",
        "plt.title('V')\n",
        "\n",
        "plt.figure(2)\n",
        "plt.imshow(C)\n",
        "plt.title('C')\n",
        "\n",
        "plt.figure(3)\n",
        "plt.imshow(Vhat)\n",
        "plt.title('Vhat')\n",
        "\n",
        "print()\n",
        "print('0th norms of input signal and wavelet coefs')\n",
        "print('|V|0 = ', np.count_nonzero(V))\n",
        "print('|C|0 = ', np.count_nonzero(C))\n",
        "print()"
      ],
      "execution_count": 6,
      "outputs": [
        {
          "output_type": "stream",
          "text": [
            "V = [[1 0 0 1]\n",
            " [0 1 1 0]\n",
            " [0 1 1 0]\n",
            " [1 0 0 1]]\n",
            "C = [[ 2.  0.  0.  0.]\n",
            " [ 0.  0.  0.  0.]\n",
            " [ 0.  0.  1. -1.]\n",
            " [ 0.  0. -1.  1.]]\n",
            "\n",
            "0th norms of input signal and wavelet coefs\n",
            "|V|0 =  8\n",
            "|C|0 =  5\n",
            "\n"
          ],
          "name": "stdout"
        },
        {
          "output_type": "display_data",
          "data": {
            "image/png": "[encoded data removed]",
            "text/plain": [
              "<Figure size 576x396 with 1 Axes>"
            ]
          },
          "metadata": {
            "tags": []
          }
        },
        {
          "output_type": "display_data",
          "data": {
            "image/png": "[encoded data removed]",
            "text/plain": [
              "<Figure size 576x396 with 1 Axes>"
            ]
          },
          "metadata": {
            "tags": []
          }
        },
        {
          "output_type": "display_data",
          "data": {
            "image/png": "[encoded data removed]",
            "text/plain": [
              "<Figure size 576x396 with 1 Axes>"
            ]
          },
          "metadata": {
            "tags": []
          }
        }
      ]
    },
    {
      "metadata": {
        "id": "xoXqyqvGuToA",
        "colab_type": "text"
      },
      "cell_type": "markdown",
      "source": [
        "By Recursion - calculate the wavelet coefficients by recursion, instead of a matrix multiply\n",
        "\n",
        "i: recursion level\n",
        "\n",
        "a: averages\n",
        "\n",
        "d: differences\n",
        "\n",
        "cr: coefs calculated by recursion (should be the same as c)\n",
        "\n",
        "Apply the 1-D transform column-wise first, then apply the 1-D transform to the rows of the result.  The 0,0 entry should contain the average of all entries."
      ]
    },
    {
      "metadata": {
        "id": "eTs_H-1Zt5vN",
        "colab_type": "code",
        "outputId": "f14d8e06-0f38-4325-e60f-f22f82a77d2c",
        "colab": {
          "base_uri": "https://localhost:8080/",
          "height": 1126
        }
      },
      "cell_type": "code",
      "source": [
        "M, N = V.shape\n",
        "Cr = np.zeros_like(V, dtype=float)\n",
        "\n",
        "print('By columns...')\n",
        "i = 1\n",
        "aprev = V\n",
        "a = np.zeros_like(V, dtype=float)\n",
        "for col in range(N):\n",
        "  for j in range(0,N,2**i):\n",
        "    a[j:j+2**i, col] = np.average(V[j:j+2**i, col])  \n",
        "d = aprev - a\n",
        "for col in range(N):\n",
        "  Cr[2, col] = norm(d[:2**i, col], 1) / (N/2)\n",
        "  Cr[3, col] = norm(d[2**i:, col], 1) / (N/2)\n",
        "print('\\trecursion level {}: a = {}, d = {}\\n => cr={}'.format(i,a,d,Cr))\n",
        "print()\n",
        "\n",
        "i = 2\n",
        "aprev = a\n",
        "a = np.zeros_like(V, dtype=float)\n",
        "for col in range(N):\n",
        "  for j in range(0,N,2**i):\n",
        "    a[j:j+2**i, col] = np.average(V[j:j+2**i, col])  \n",
        "d = aprev - a\n",
        "for col in range(N):\n",
        "  Cr[0, col] = norm(a[:,col], 1) / N\n",
        "  Cr[1, col] = norm(d[:, col], 1) / N\n",
        "print('\\trecursion level {}: a = {}, d = {}\\n => cr={}'.format(i,a,d,Cr))\n",
        "print()\n",
        "\n",
        "print('By rows...')\n",
        "i = 1\n",
        "aprev = V\n",
        "a = np.zeros_like(V, dtype=float)\n",
        "for row in range(N):\n",
        "  for j in range(0,N,2**i):\n",
        "    a[row, j:j+2**i] = np.average(V[row, j:j+2**i])  \n",
        "d = aprev - a\n",
        "for row in range(N):\n",
        "  Cr[row, 2] = norm(d[row, :2**i], 1) / (N/2)\n",
        "  Cr[row, 3] = norm(d[row, 2**i:], 1) / (N/2)\n",
        "print('\\trecursion level {}: a = {}, d = {}\\n => cr={}'.format(i,a,d,Cr))\n",
        "print()\n",
        "\n",
        "i = 2\n",
        "aprev = a\n",
        "a = np.zeros_like(V, dtype=float)\n",
        "for row in range(N):\n",
        "  for j in range(0,N,2**i):\n",
        "    a[row, j:j+2**i] = np.average(V[row, j:j+2**i])  \n",
        "d = aprev - a\n",
        "for row in range(N):\n",
        "  Cr[row, 0] = norm(a[row,:], 1) / N\n",
        "  Cr[row, 1] = norm(d[row,:], 1) / N\n",
        "print('\\trecursion level {}: a = {}, d = {}\\n => cr={}'.format(i,a,d,Cr))\n",
        "print()\n",
        "\n",
        "\n",
        "#M, N = v.shape\n",
        "#cr = np.zeros_like(v, dtype=float)\n",
        "#\n",
        "#i = 1\n",
        "#aprev = v\n",
        "#a = np.zeros_like(v, dtype=float)\n",
        "#a[:2,:2] = np.average(aprev.astype(float)[:2,:2])\n",
        "#a[2:,:2] = np.average(aprev.astype(float)[2:,:2])\n",
        "#a[2:,2:] = np.average(aprev.astype(float)[2:,2:])\n",
        "#a[:2,2:] = np.average(aprev.astype(float)[:2,2:])\n",
        "#d = aprev\n",
        "## from the upper left quadrant\n",
        "#cr[0,0] = a[0,0]\n",
        "#cr[0,2] = d[0,1]\n",
        "#cr[2,0] = d[1,0]\n",
        "#cr[2,2] = d[1,1]\n",
        "## from the upper right quadrant\n",
        "#cr[0,1] = a[0,2]\n",
        "#cr[0,3] = d[0,3]\n",
        "#cr[2,1] = d[1,2]\n",
        "#cr[2,3] = d[1,3]\n",
        "## from the lower left quadrant\n",
        "#cr[1,0] = a[2,0]\n",
        "#cr[1,2] = d[2,1]\n",
        "#cr[3,0] = d[3,0]\n",
        "#cr[3,2] = d[3,1]\n",
        "## from the lower right quadrant\n",
        "#cr[1,1] = a[2,2]\n",
        "#cr[1,3] = d[2,3]\n",
        "#cr[3,1] = d[3,2]\n",
        "#cr[3,3] = d[3,3]\n",
        "#\n",
        "#print('recursion level {}:\\n a = {},\\n d = {}\\n =>\\n cr={}\\n'.format(i,a,d,cr))\n",
        "#print()\n",
        "#\n",
        "#i = 2\n",
        "#aprev = a\n",
        "#a = np.zeros_like(v, dtype=float)\n",
        "#a[:] = np.average(aprev.astype(float))  \n",
        "#d = aprev\n",
        "## upper left quadrant\n",
        "#cr[0,0] = a[0,0]\n",
        "#\n",
        "#print('recursion level {}:\\n a = {},\\n d = {}\\n =>\\n cr={}'.format(i,a,d,cr))\n",
        "#print()\n",
        "\n",
        "print('C=',C)\n",
        "print('Cr=',Cr)\n",
        "print('|C-Cr|2 =', norm(C-Cr,2))\n",
        "print('np.average(V)=',np.average(V))\n",
        "print('np.average(V)==Cr[0,0]:',np.average(V)==Cr[0,0])"
      ],
      "execution_count": 12,
      "outputs": [
        {
          "output_type": "stream",
          "text": [
            "By columns...\n",
            "\trecursion level 1: a = [[0.5 0.5 0.5 0.5]\n",
            " [0.5 0.5 0.5 0.5]\n",
            " [0.5 0.5 0.5 0.5]\n",
            " [0.5 0.5 0.5 0.5]], d = [[ 0.5 -0.5 -0.5  0.5]\n",
            " [-0.5  0.5  0.5 -0.5]\n",
            " [-0.5  0.5  0.5 -0.5]\n",
            " [ 0.5 -0.5 -0.5  0.5]]\n",
            " => cr=[[0.  0.  0.  0. ]\n",
            " [0.  0.  0.  0. ]\n",
            " [0.5 0.5 0.5 0.5]\n",
            " [0.5 0.5 0.5 0.5]]\n",
            "\n",
            "\trecursion level 2: a = [[0.5 0.5 0.5 0.5]\n",
            " [0.5 0.5 0.5 0.5]\n",
            " [0.5 0.5 0.5 0.5]\n",
            " [0.5 0.5 0.5 0.5]], d = [[0. 0. 0. 0.]\n",
            " [0. 0. 0. 0.]\n",
            " [0. 0. 0. 0.]\n",
            " [0. 0. 0. 0.]]\n",
            " => cr=[[0.5 0.5 0.5 0.5]\n",
            " [0.  0.  0.  0. ]\n",
            " [0.5 0.5 0.5 0.5]\n",
            " [0.5 0.5 0.5 0.5]]\n",
            "\n",
            "By rows...\n",
            "\trecursion level 1: a = [[0.5 0.5 0.5 0.5]\n",
            " [0.5 0.5 0.5 0.5]\n",
            " [0.5 0.5 0.5 0.5]\n",
            " [0.5 0.5 0.5 0.5]], d = [[ 0.5 -0.5 -0.5  0.5]\n",
            " [-0.5  0.5  0.5 -0.5]\n",
            " [-0.5  0.5  0.5 -0.5]\n",
            " [ 0.5 -0.5 -0.5  0.5]]\n",
            " => cr=[[0.5 0.5 0.5 0.5]\n",
            " [0.  0.  0.5 0.5]\n",
            " [0.5 0.5 0.5 0.5]\n",
            " [0.5 0.5 0.5 0.5]]\n",
            "\n",
            "\trecursion level 2: a = [[0.5 0.5 0.5 0.5]\n",
            " [0.5 0.5 0.5 0.5]\n",
            " [0.5 0.5 0.5 0.5]\n",
            " [0.5 0.5 0.5 0.5]], d = [[0. 0. 0. 0.]\n",
            " [0. 0. 0. 0.]\n",
            " [0. 0. 0. 0.]\n",
            " [0. 0. 0. 0.]]\n",
            " => cr=[[0.5 0.  0.5 0.5]\n",
            " [0.5 0.  0.5 0.5]\n",
            " [0.5 0.  0.5 0.5]\n",
            " [0.5 0.  0.5 0.5]]\n",
            "\n",
            "C= [[ 2.  0.  0.  0.]\n",
            " [ 0.  0.  0.  0.]\n",
            " [ 0.  0.  1. -1.]\n",
            " [ 0.  0. -1.  1.]]\n",
            "Cr= [[0.5 0.  0.5 0.5]\n",
            " [0.5 0.  0.5 0.5]\n",
            " [0.5 0.  0.5 0.5]\n",
            " [0.5 0.  0.5 0.5]]\n",
            "|C-Cr|2 = 1.9999999999999998\n",
            "np.average(V)= 0.5\n",
            "np.average(V)==Cr[0,0]: True\n"
          ],
          "name": "stdout"
        }
      ]
    },
    {
      "metadata": {
        "id": "tXlOL64Gzo8-",
        "colab_type": "text"
      },
      "cell_type": "markdown",
      "source": [
        "\n",
        "A bigger N"
      ]
    },
    {
      "metadata": {
        "id": "koc3SHrmztne",
        "colab_type": "code",
        "outputId": "d4734b40-a2a6-4947-c685-d14342e70007",
        "colab": {
          "base_uri": "https://localhost:8080/",
          "height": 1288
        }
      },
      "cell_type": "code",
      "source": [
        "N = 8\n",
        "V = np.eye(N)\n",
        "for i in range(N):\n",
        "  V[i,N-i-1] = 1\n",
        "  \n",
        "  \n",
        "W = np.array([[1, 1, 1, 0, 1, 0, 0, 0],\n",
        "              [1, 1, 1, 0,-1, 0, 0, 0],\n",
        "              [1, 1,-1, 0, 0, 1, 0, 0],\n",
        "              [1, 1,-1, 0, 0,-1, 0, 0],\n",
        "              [1,-1, 0, 1, 0, 0, 1, 0],\n",
        "              [1,-1, 0, 1, 0, 0,-1, 0],\n",
        "              [1,-1, 0,-1, 0, 0, 0, 1],\n",
        "              [1,-1, 0,-1, 0, 0, 0,-1]\n",
        "             ])\n",
        "\n",
        "M,N = W.shape\n",
        "print('W orthonormal: ', (W.dot(inv(W))==np.eye(N)).all())\n",
        "    \n",
        "C = (inv(W).dot(V)).dot(W)\n",
        "Vhat = (W.dot(C)).dot(inv(W))\n",
        "\n",
        "print('C=', C)\n",
        "\n",
        "plt.figure(1)\n",
        "plt.imshow(V)\n",
        "plt.title('V')\n",
        "\n",
        "plt.figure(2)\n",
        "plt.imshow(C)\n",
        "plt.title('C')\n",
        "\n",
        "plt.figure(3)\n",
        "plt.imshow(Vhat)\n",
        "plt.title('Vhat')\n",
        "\n",
        "print()\n",
        "print('0th norms of input signal and wavelet coefs')\n",
        "print('|V|0 = ', np.count_nonzero(V))\n",
        "print('|C|0 = ', np.count_nonzero(C))"
      ],
      "execution_count": 18,
      "outputs": [
        {
          "output_type": "stream",
          "text": [
            "W orthonormal:  True\n",
            "C= [[ 2.  0.  0.  0.  0.  0.  0.  0.]\n",
            " [ 0.  0.  0.  0.  0.  0.  0.  0.]\n",
            " [ 0.  0.  1. -1.  0.  0.  0.  0.]\n",
            " [ 0.  0. -1.  1.  0.  0.  0.  0.]\n",
            " [ 0.  0.  0.  0.  1.  0.  0. -1.]\n",
            " [ 0.  0.  0.  0.  0.  1. -1.  0.]\n",
            " [ 0.  0.  0.  0.  0. -1.  1.  0.]\n",
            " [ 0.  0.  0.  0. -1.  0.  0.  1.]]\n",
            "\n",
            "0th norms of input signal and wavelet coefs\n",
            "|V|0 =  16\n",
            "|C|0 =  13\n"
          ],
          "name": "stdout"
        },
        {
          "output_type": "display_data",
          "data": {
            "image/png": "[encoded data removed]",
            "text/plain": [
              "<Figure size 576x396 with 1 Axes>"
            ]
          },
          "metadata": {
            "tags": []
          }
        },
        {
          "output_type": "display_data",
          "data": {
            "image/png": "[encoded data removed]",
            "text/plain": [
              "<Figure size 576x396 with 1 Axes>"
            ]
          },
          "metadata": {
            "tags": []
          }
        },
        {
          "output_type": "display_data",
          "data": {
            "image/png": "[encoded data removed]",
            "text/plain": [
              "<Figure size 576x396 with 1 Axes>"
            ]
          },
          "metadata": {
            "tags": []
          }
        }
      ]
    },
    {
      "metadata": {
        "id": "F3nxjcC_R9AI",
        "colab_type": "text"
      },
      "cell_type": "markdown",
      "source": [
        "Wavelet basis generating function:\n",
        "\n",
        "W = wavelet_basis(N)\n",
        "\n",
        "input N: generate the NxN wavelet basis matrix\n",
        "\n",
        "output W: the NxN wavelet basis matrix\n",
        "\n",
        "note: N should be an integer power of 2"
      ]
    },
    {
      "metadata": {
        "id": "EF10t5mLR9aE",
        "colab_type": "code",
        "colab": {}
      },
      "cell_type": "code",
      "source": [
        "from math import log10\n",
        "\n",
        "def log2(x):\n",
        "  return log10(N) / log10(2)\n",
        "\n",
        "def wavelet_basis(N):\n",
        "  Nlog2 = log2(N)\n",
        "  assert int(Nlog2)==Nlog2, \"N should be an integer power of 2\"\n",
        "  assert N>0, \"N should be bigger than 0\"\n",
        "  Nlog2 = int(Nlog2)\n",
        "  W = np.zeros((N,N), dtype=float)\n",
        "  W[:,0] = 1.0\n",
        "  for i in range(Nlog2):\n",
        "    for j in range(2**i):\n",
        "      col = j+2**i\n",
        "      rows = int(N / (2**(i+1)))\n",
        "      W[2*j*rows:(2*j+1)*rows,col] = 1.0\n",
        "      W[(2*j+1)*rows:(2*j+2)*rows,col] = -1.0\n",
        "  assert (W.dot(inv(W))==np.eye(N)).all(), \"Generated W not orthonormal\"\n",
        "  return W\n"
      ],
      "execution_count": 0,
      "outputs": []
    },
    {
      "metadata": {
        "id": "m87l0DyDX5P9",
        "colab_type": "code",
        "outputId": "f6a49f23-bca9-44ac-e4c7-17ea29a87a2d",
        "colab": {
          "base_uri": "https://localhost:8080/",
          "height": 1270
        }
      },
      "cell_type": "code",
      "source": [
        "N = 64\n",
        "V = np.eye(N)\n",
        "for i in range(N):\n",
        "  V[i,N-i-1] = 1\n",
        "  \n",
        "W = wavelet_basis(N)\n",
        "\n",
        "M,N = W.shape\n",
        "print('W orthonormal: ', (W.dot(inv(W))==np.eye(N)).all())\n",
        "    \n",
        "C = (inv(W).dot(V)).dot(W)\n",
        "Vhat = (W.dot(C)).dot(inv(W))\n",
        "\n",
        "print('C=', C)\n",
        "\n",
        "plt.figure(1)\n",
        "plt.imshow(V)\n",
        "plt.title('V')\n",
        "\n",
        "plt.figure(2)\n",
        "plt.imshow(C)\n",
        "plt.title('C')\n",
        "\n",
        "plt.figure(3)\n",
        "plt.imshow(Vhat)\n",
        "plt.title('Vhat')\n",
        "\n",
        "print()\n",
        "print('0th norms of input signal and wavelet coefs')\n",
        "print('|V|0 = ', np.count_nonzero(V))\n",
        "print('|C|0 = ', np.count_nonzero(C))"
      ],
      "execution_count": 20,
      "outputs": [
        {
          "output_type": "stream",
          "text": [
            "W orthonormal:  True\n",
            "C= [[2. 0. 0. ... 0. 0. 0.]\n",
            " [0. 0. 0. ... 0. 0. 0.]\n",
            " [0. 0. 1. ... 0. 0. 0.]\n",
            " ...\n",
            " [0. 0. 0. ... 1. 0. 0.]\n",
            " [0. 0. 0. ... 0. 1. 0.]\n",
            " [0. 0. 0. ... 0. 0. 1.]]\n",
            "\n",
            "0th norms of input signal and wavelet coefs\n",
            "|V|0 =  128\n",
            "|C|0 =  125\n"
          ],
          "name": "stdout"
        },
        {
          "output_type": "display_data",
          "data": {
            "image/png": "[encoded data removed]",
            "text/plain": [
              "<Figure size 576x396 with 1 Axes>"
            ]
          },
          "metadata": {
            "tags": []
          }
        },
        {
          "output_type": "display_data",
          "data": {
            "image/png": "[encoded data removed]",
            "text/plain": [
              "<Figure size 576x396 with 1 Axes>"
            ]
          },
          "metadata": {
            "tags": []
          }
        },
        {
          "output_type": "display_data",
          "data": {
            "image/png": "[encoded data removed]",
            "text/plain": [
              "<Figure size 576x396 with 1 Axes>"
            ]
          },
          "metadata": {
            "tags": []
          }
        }
      ]
    },
    {
      "metadata": {
        "id": "H-g2YrLQGzn6",
        "colab_type": "text"
      },
      "cell_type": "markdown",
      "source": [
        "Instead of greyscale, RGB"
      ]
    },
    {
      "metadata": {
        "id": "JbcX6bkpG2o6",
        "colab_type": "code",
        "colab": {
          "base_uri": "https://localhost:8080/",
          "height": 2088
        },
        "outputId": "2e14dc0b-d2e4-4dc1-b353-454b31cfcff3"
      },
      "cell_type": "code",
      "source": [
        "N = 64\n",
        "V = np.zeros((N,N,3))\n",
        "\n",
        "print(V.shape)\n",
        "V[:32,:32,:] = np.array([255,0,0])\n",
        "V[32:,:32,:] = np.array([0,255,0])\n",
        "V[:32,32:,:] = np.array([0,0,255])\n",
        "V[32:,32:,:] = np.array([255,255,0])\n",
        "\n",
        "W = wavelet_basis(N)\n",
        "\n",
        "M,N = W.shape\n",
        "print('W orthonormal: ', (W.dot(inv(W))==np.eye(N)).all())\n",
        "    \n",
        "C = np.zeros_like(V)\n",
        "# can use np.tensordot here with axis instead\n",
        "for i in range(3):\n",
        "  C[:,:,i] = (inv(W).dot(V[:,:,i])).dot(W)\n",
        "  Vhat = (W.dot(C[:,:,i])).dot(inv(W))\n",
        "\n",
        "print('C=', C)\n",
        "\n",
        "plt.figure(1)\n",
        "plt.imshow(V)\n",
        "plt.title('V')\n",
        "\n",
        "plt.figure(2)\n",
        "plt.imshow(C)\n",
        "plt.title('C')\n",
        "\n",
        "plt.figure(3)\n",
        "plt.imshow(Vhat)\n",
        "plt.title('Vhat')\n",
        "\n",
        "print()\n",
        "print('0th norms of input signal and wavelet coefs')\n",
        "print('|V|0 = ', np.count_nonzero(V))\n",
        "print('|C|0 = ', np.count_nonzero(C))"
      ],
      "execution_count": 24,
      "outputs": [
        {
          "output_type": "stream",
          "text": [
            "Clipping input data to the valid range for imshow with RGB data ([0..1] for floats or [0..255] for integers).\n",
            "Clipping input data to the valid range for imshow with RGB data ([0..1] for floats or [0..255] for integers).\n"
          ],
          "name": "stderr"
        },
        {
          "output_type": "stream",
          "text": [
            "(64, 64, 3)\n",
            "W orthonormal:  True\n",
            "C= [[[ 8160.  8160.  4080.]\n",
            "  [    0.     0. -4080.]\n",
            "  [    0.     0.     0.]\n",
            "  ...\n",
            "  [    0.     0.     0.]\n",
            "  [    0.     0.     0.]\n",
            "  [    0.     0.     0.]]\n",
            "\n",
            " [[    0. -8160.  4080.]\n",
            "  [ 8160.     0. -4080.]\n",
            "  [    0.     0.     0.]\n",
            "  ...\n",
            "  [    0.     0.     0.]\n",
            "  [    0.     0.     0.]\n",
            "  [    0.     0.     0.]]\n",
            "\n",
            " [[    0.     0.     0.]\n",
            "  [    0.     0.     0.]\n",
            "  [    0.     0.     0.]\n",
            "  ...\n",
            "  [    0.     0.     0.]\n",
            "  [    0.     0.     0.]\n",
            "  [    0.     0.     0.]]\n",
            "\n",
            " ...\n",
            "\n",
            " [[    0.     0.     0.]\n",
            "  [    0.     0.     0.]\n",
            "  [    0.     0.     0.]\n",
            "  ...\n",
            "  [    0.     0.     0.]\n",
            "  [    0.     0.     0.]\n",
            "  [    0.     0.     0.]]\n",
            "\n",
            " [[    0.     0.     0.]\n",
            "  [    0.     0.     0.]\n",
            "  [    0.     0.     0.]\n",
            "  ...\n",
            "  [    0.     0.     0.]\n",
            "  [    0.     0.     0.]\n",
            "  [    0.     0.     0.]]\n",
            "\n",
            " [[    0.     0.     0.]\n",
            "  [    0.     0.     0.]\n",
            "  [    0.     0.     0.]\n",
            "  ...\n",
            "  [    0.     0.     0.]\n",
            "  [    0.     0.     0.]\n",
            "  [    0.     0.     0.]]]\n",
            "\n",
            "0th norms of input signal and wavelet coefs\n",
            "|V|0 =  5120\n",
            "|C|0 =  8\n"
          ],
          "name": "stdout"
        },
        {
          "output_type": "display_data",
          "data": {
            "image/png": "[encoded data removed]",
            "text/plain": [
              "<Figure size 576x396 with 1 Axes>"
            ]
          },
          "metadata": {
            "tags": []
          }
        },
        {
          "output_type": "display_data",
          "data": {
            "image/png": "[encoded data removed]",
            "text/plain": [
              "<Figure size 576x396 with 1 Axes>"
            ]
          },
          "metadata": {
            "tags": []
          }
        },
        {
          "output_type": "display_data",
          "data": {
            "image/png": "[encoded data removed]",
            "text/plain": [
              "<Figure size 576x396 with 1 Axes>"
            ]
          },
          "metadata": {
            "tags": []
          }
        }
      ]
    }
  ]
}